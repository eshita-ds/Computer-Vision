{
 "cells": [
  {
   "cell_type": "code",
   "execution_count": 43,
   "id": "07099c8c-4c52-4057-86db-530d624bd3da",
   "metadata": {
    "tags": []
   },
   "outputs": [],
   "source": [
    "val_images = []\n",
    "for filename in os.listdir(val_images_path):\n",
    "    # Remove the last extension (jpg)\n",
    "    base_filename = filename.rsplit('.', 1)[0]\n",
    "    val_images.append(base_filename)"
   ]
  },
  {
   "cell_type": "code",
   "execution_count": 44,
   "id": "c3dce1d8-35fd-492d-a13d-e65dc91064c0",
   "metadata": {
    "tags": []
   },
   "outputs": [
    {
     "ename": "Error",
     "evalue": "Destination path 'val/images/road781_png.rf.5d65a1b895f957b3d400ecbc4db1573d.jpg' already exists",
     "output_type": "error",
     "traceback": [
      "\u001b[0;31m---------------------------------------------------------------------------\u001b[0m",
      "\u001b[0;31mError\u001b[0m                                     Traceback (most recent call last)",
      "Cell \u001b[0;32mIn[44], line 59\u001b[0m\n\u001b[1;32m     57\u001b[0m \u001b[38;5;28;01mfor\u001b[39;00m label, files \u001b[38;5;129;01min\u001b[39;00m val_files\u001b[38;5;241m.\u001b[39mitems():\n\u001b[1;32m     58\u001b[0m     \u001b[38;5;28;01mfor\u001b[39;00m file \u001b[38;5;129;01min\u001b[39;00m files:\n\u001b[0;32m---> 59\u001b[0m         shutil\u001b[38;5;241m.\u001b[39mmove(os\u001b[38;5;241m.\u001b[39mpath\u001b[38;5;241m.\u001b[39mjoin(train_images_path, file \u001b[38;5;241m+\u001b[39m \u001b[38;5;124m'\u001b[39m\u001b[38;5;124m.jpg\u001b[39m\u001b[38;5;124m'\u001b[39m), val_images_path)\n\u001b[1;32m     60\u001b[0m         shutil\u001b[38;5;241m.\u001b[39mmove(os\u001b[38;5;241m.\u001b[39mpath\u001b[38;5;241m.\u001b[39mjoin(train_labels_path, file \u001b[38;5;241m+\u001b[39m \u001b[38;5;124m'\u001b[39m\u001b[38;5;124m.txt\u001b[39m\u001b[38;5;124m'\u001b[39m), val_labels_path)\n",
      "File \u001b[0;32m~/anaconda3/lib/python3.11/shutil.py:823\u001b[0m, in \u001b[0;36mmove\u001b[0;34m(src, dst, copy_function)\u001b[0m\n\u001b[1;32m    820\u001b[0m     real_dst \u001b[38;5;241m=\u001b[39m os\u001b[38;5;241m.\u001b[39mpath\u001b[38;5;241m.\u001b[39mjoin(dst, _basename(src))\n\u001b[1;32m    822\u001b[0m     \u001b[38;5;28;01mif\u001b[39;00m os\u001b[38;5;241m.\u001b[39mpath\u001b[38;5;241m.\u001b[39mexists(real_dst):\n\u001b[0;32m--> 823\u001b[0m         \u001b[38;5;28;01mraise\u001b[39;00m Error(\u001b[38;5;124m\"\u001b[39m\u001b[38;5;124mDestination path \u001b[39m\u001b[38;5;124m'\u001b[39m\u001b[38;5;132;01m%s\u001b[39;00m\u001b[38;5;124m'\u001b[39m\u001b[38;5;124m already exists\u001b[39m\u001b[38;5;124m\"\u001b[39m \u001b[38;5;241m%\u001b[39m real_dst)\n\u001b[1;32m    824\u001b[0m \u001b[38;5;28;01mtry\u001b[39;00m:\n\u001b[1;32m    825\u001b[0m     os\u001b[38;5;241m.\u001b[39mrename(src, real_dst)\n",
      "\u001b[0;31mError\u001b[0m: Destination path 'val/images/road781_png.rf.5d65a1b895f957b3d400ecbc4db1573d.jpg' already exists"
     ]
    }
   ],
   "source": [
    "import os\n",
    "import shutil\n",
    "import random\n",
    "import xml.etree.ElementTree as ET\n",
    "\n",
    "# Paths\n",
    "labels_train_path = 'labels_train'\n",
    "train_images_path = 'train/images'\n",
    "train_labels_path = 'train/labels'\n",
    "val_images_path = 'val/images'\n",
    "val_labels_path = 'val/labels'\n",
    "\n",
    "# Create validation directories if not exist\n",
    "if not os.path.exists(val_images_path):\n",
    "    os.makedirs(val_images_path)\n",
    "if not os.path.exists(val_labels_path):\n",
    "    os.makedirs(val_labels_path)\n",
    "\n",
    "# Dictionary to store label counts\n",
    "label_counts = {}\n",
    "\n",
    "# Loop through all XML files in labels_train\n",
    "for filename in os.listdir(labels_train_path):\n",
    "    if filename.endswith('.xml'):\n",
    "        # Parse XML file\n",
    "        tree = ET.parse(os.path.join(labels_train_path, filename))\n",
    "        root = tree.getroot()\n",
    "\n",
    "        # Get labels in current file\n",
    "        labels = [obj.find('name').text for obj in root.findall('object')]\n",
    "\n",
    "        # Remove extension and suffix from filename\n",
    "        # base_filename = filename.split('.xml')[0].rsplit('.', 2)[0]\n",
    "        base_filename = filename.replace('.xml', '')\n",
    "        \n",
    "        if base_filename in val_images:\n",
    "            continue\n",
    "\n",
    "        # Update label counts\n",
    "        for label in labels:\n",
    "            if label not in label_counts:\n",
    "                label_counts[label] = []\n",
    "            label_counts[label].append(base_filename)\n",
    "\n",
    "# Calculate number of validation samples per class\n",
    "num_val_samples = 650\n",
    "val_samples_per_class = {}\n",
    "for label, files in label_counts.items():\n",
    "    val_samples_per_class[label] = int(num_val_samples * len(files) / sum(len(files) for files in label_counts.values()))\n",
    "\n",
    "# Select validation files\n",
    "val_files = {}\n",
    "for label, num_samples in val_samples_per_class.items():\n",
    "    val_files[label] = random.sample(label_counts[label], num_samples)\n",
    "    \n",
    "# Move files to validation directories\n",
    "for label, files in val_files.items():\n",
    "    for file in files:\n",
    "        shutil.move(os.path.join(train_images_path, file + '.jpg'), val_images_path)\n",
    "        shutil.move(os.path.join(train_labels_path, file + '.txt'), val_labels_path)"
   ]
  },
  {
   "cell_type": "code",
   "execution_count": null,
   "id": "1651675f-a017-4008-a28d-07da5f9037fa",
   "metadata": {},
   "outputs": [],
   "source": []
  }
 ],
 "metadata": {
  "kernelspec": {
   "display_name": "Python 3 (ipykernel)",
   "language": "python",
   "name": "python3"
  },
  "language_info": {
   "codemirror_mode": {
    "name": "ipython",
    "version": 3
   },
   "file_extension": ".py",
   "mimetype": "text/x-python",
   "name": "python",
   "nbconvert_exporter": "python",
   "pygments_lexer": "ipython3",
   "version": "3.11.5"
  }
 },
 "nbformat": 4,
 "nbformat_minor": 5
}
